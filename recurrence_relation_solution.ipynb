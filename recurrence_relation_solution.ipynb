{
  "nbformat": 4,
  "nbformat_minor": 0,
  "metadata": {
    "colab": {
      "provenance": []
    },
    "kernelspec": {
      "name": "python3",
      "display_name": "Python 3"
    },
    "language_info": {
      "name": "python"
    }
  },
  "cells": [
    {
      "cell_type": "code",
      "execution_count": 2,
      "metadata": {
        "colab": {
          "base_uri": "https://localhost:8080/",
          "height": 106
        },
        "id": "Dg3XFGVGPrSN",
        "outputId": "4623d2e0-0e32-4889-e95b-64c56ee619f9"
      },
      "outputs": [
        {
          "output_type": "error",
          "ename": "SyntaxError",
          "evalue": "invalid decimal literal (<ipython-input-2-53e6a1c3d06c>, line 9)",
          "traceback": [
            "\u001b[0;36m  File \u001b[0;32m\"<ipython-input-2-53e6a1c3d06c>\"\u001b[0;36m, line \u001b[0;32m9\u001b[0m\n\u001b[0;31m    T(1) = 3T(1-1) + 12*1\u001b[0m\n\u001b[0m           ^\u001b[0m\n\u001b[0;31mSyntaxError\u001b[0m\u001b[0;31m:\u001b[0m invalid decimal literal\n"
          ]
        }
      ],
      "source": [
        "#1 Find the value of T(2) for the recurrence relation T(n) = 3T(n-1) + 12n, given that T(0)=5.\n",
        "\n",
        "\n",
        "\n",
        "#let’s calculate T(2) for the recurrence relation T(n) = 3T(n-1) + 12n with the initial condition T(0)=5.\n",
        "\n",
        "First, we find T(1):\n",
        "\n",
        "T(1) = 3T(1-1) + 12*1\n",
        "     = 3T(0) + 12\n",
        "     = 3*5 + 12\n",
        "     = 15 + 12\n",
        "     = 27\n",
        "\n",
        "Then, we find T(2):\n",
        "\n",
        "T(2) = 3T(2-1) + 12*2\n",
        "     = 3T(1) + 24\n",
        "     = 3*27 + 24\n",
        "     = 81 + 24\n",
        "     = 105\n",
        "\n",
        " T(2) = 105"
      ]
    },
    {
      "cell_type": "code",
      "source": [
        "#2. Given a recurrence relation, solve it using the substitution method:\n",
        "2. Given a rec%rrence relation, solve it %sing the s%bstit%tion method:\n",
        "a. T(n) = T(n-1) + c\n",
        "b. T(n) = 2T(n/2) + n\n",
        "c. T(n) = 2T(n/2) + c\n",
        "d. T(n) = T(n/2) + c\n",
        " #let’s solve these recurrence relations using the substitution method:\n",
        "\n",
        "a. T(n) = T(n-1) + c:\n",
        " This is a linear homogeneous recurrence relation with constant coefficients. The solution is:\n",
        " T(n) = T(0) + nc\n",
        "\n",
        "b. T(n) = 2T(n/2) + n:\n",
        " This is a divide-and-conquer recurrence relation. The solution is obtained using the Master Theorem, and it is:\n",
        "T(n) = O(n log n)\n",
        "\n",
        "c. T(n) = 2T(n/2) + c:\n",
        " This is also a divide-and-conquer recurrence relation. The solution is:\n",
        "T(n) = O(n)\n",
        "\n",
        "d. T(n) = T(n/2) + c:\n",
        "This is a decrease-by-half recurrence relation. The solution is:\n",
        "T(n) = O(log n)"
      ],
      "metadata": {
        "colab": {
          "base_uri": "https://localhost:8080/",
          "height": 106
        },
        "id": "1FTz3sjLQifY",
        "outputId": "c8281d3e-d08b-4b38-8b2c-37e4f5c52c10"
      },
      "execution_count": 3,
      "outputs": [
        {
          "output_type": "error",
          "ename": "SyntaxError",
          "evalue": "invalid decimal literal (<ipython-input-3-21eb55fa5e7a>, line 4)",
          "traceback": [
            "\u001b[0;36m  File \u001b[0;32m\"<ipython-input-3-21eb55fa5e7a>\"\u001b[0;36m, line \u001b[0;32m4\u001b[0m\n\u001b[0;31m    b. T(n) = 2T(n/2) + n\u001b[0m\n\u001b[0m              ^\u001b[0m\n\u001b[0;31mSyntaxError\u001b[0m\u001b[0;31m:\u001b[0m invalid decimal literal\n"
          ]
        }
      ]
    },
    {
      "cell_type": "code",
      "source": [
        "3. Given a rec%rrence relation, solve it %sing the rec%rsive tree approach:\n",
        "#a. T(n) = 2T(n-1) +1\n",
        "\n",
        "The recursive tree for this relation would have each node representing a term in the expansion of the recurrence. The root node is T(n), and each node has two children, T(n-1) and 1.\n",
        "\n",
        "If we expand this, we get:\n",
        "\n",
        "Level 0:            T(n)\n",
        "Level 1:     2T(n-1) + 1\n",
        "Level 2: 2[2T(n-2) + 1] + 1 = 4T(n-2) + 3\n",
        "Level 3: 2[4T(n-3) + 3] + 1 = 8T(n-3) + 7\n",
        "...\n",
        "Level k: 2^{k}T(n-k) + (2^{k} - 1)\n",
        "\n",
        "We continue this process until we reach the base case (i.e., k=n). The final solution is:\n",
        "\n",
        "T(n) = 2^{n}T(0) + (2^{n} - 1)\n",
        "\n",
        "\n",
        "\n",
        "#b. T(n) = 2T(n/2) + n\n",
        "the recurrence relation T(n) = 2T(n/2) + n using the recursive tree approach:\n",
        "\n",
        "The recursive tree for this relation would have each level representing a term in the expansion of the recurrence. The root node is T(n), and each node has two children, T(n/2) and n.\n",
        "\n",
        "If we expand this, we get:\n",
        "\n",
        "Level 0:            T(n)\n",
        "Level 1:     2T(n/2) + n\n",
        "Level 2: 2[2T(n/4) + n/2] + n = 4T(n/4) + 2n\n",
        "Level 3: 2[4T(n/8) + n/2] + n = 8T(n/8) + 3n\n",
        "...\n",
        "Level k: 2^{k}T(n/2^k) + kn\n",
        "\n",
        "We continue this process until we reach the base case (i.e., k=log(n)). The final solution is:\n",
        "\n",
        "T(n) = nT(1) + n log(n)"
      ],
      "metadata": {
        "id": "DkBkwKpHTWJ3"
      },
      "execution_count": null,
      "outputs": []
    }
  ]
}